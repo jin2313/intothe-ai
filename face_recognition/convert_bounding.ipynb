{
 "cells": [
  {
   "cell_type": "code",
   "execution_count": 1,
   "id": "40f2cbaa",
   "metadata": {},
   "outputs": [],
   "source": [
    "import shutil\n",
    "import os\n",
    "\n",
    "from sklearn.model_selection import train_test_split"
   ]
  },
  {
   "cell_type": "code",
   "execution_count": 47,
   "id": "2196289a",
   "metadata": {},
   "outputs": [],
   "source": [
    "origin_path = r'D:/intothe/안면데이터/Middle_resolution/'\n",
    "new_path = r'C:/intoth/custom_dataset/'"
   ]
  },
  {
   "cell_type": "code",
   "execution_count": 48,
   "id": "3da30cee",
   "metadata": {},
   "outputs": [],
   "source": [
    "folder = os.listdir(origin_path)"
   ]
  },
  {
   "cell_type": "code",
   "execution_count": 49,
   "id": "59d58e22",
   "metadata": {},
   "outputs": [
    {
     "name": "stdout",
     "output_type": "stream",
     "text": [
      "400\n",
      "['19062421', '19062431', '19062521', '19062531', '19062542']\n"
     ]
    }
   ],
   "source": [
    "print(len(folder))\n",
    "print(folder[:5])"
   ]
  },
  {
   "cell_type": "code",
   "execution_count": 50,
   "id": "b8e53cbd",
   "metadata": {},
   "outputs": [],
   "source": [
    "train_list, test_list = train_test_split(folder, test_size=0.1, random_state=42)\n",
    "train_list, valid_list = train_test_split(train_list, test_size=0.1, random_state=42)"
   ]
  },
  {
   "cell_type": "code",
   "execution_count": 51,
   "id": "1d82224f",
   "metadata": {},
   "outputs": [
    {
     "name": "stdout",
     "output_type": "stream",
     "text": [
      "324\n",
      "36\n",
      "40\n"
     ]
    }
   ],
   "source": [
    "print(len(train_list))\n",
    "print(len(valid_list))\n",
    "print(len(test_list))"
   ]
  },
  {
   "cell_type": "code",
   "execution_count": 52,
   "id": "7dfe6a99",
   "metadata": {},
   "outputs": [],
   "source": [
    "def front(path, p):\n",
    "    front_li = [0, 1, 1, 2, 3, 4, 4]\n",
    "    \n",
    "    with open(origin_path + p + '/S001/L1/E01/C7.txt', 'r') as f:\n",
    "        lines = f.readlines()\n",
    "    f.close()\n",
    "    \n",
    "    if len(lines) == 14:\n",
    "        with open(path + 'labels/' + p + '_E01_C7.txt', 'w') as f:\n",
    "            for i, line in enumerate(lines[7:]): # 얼굴, 우측 눈, 좌측 눈, 코, 입, 우측 귀, 좌측 귀\n",
    "                box = line.strip('\\n').split('\\t')\n",
    "                box = list(map(int, box)) # (왼쪽 상단 x, 왼쪽 상단 y, w, h)\n",
    "                label = str(front_li[i]) + ' ' + convert_bounding([346, 230], box)\n",
    "                f.write(label)\n",
    "        f.close()\n",
    "        shutil.copy(origin_path + p + '/S001/L1/E01/C7.jpg', path + 'images/' + p + '_E01_C7.jpg')\n",
    "    else:\n",
    "        print(p, 'E01 C7')\n",
    "        \n",
    "    \n",
    "    with open(origin_path + p + '/S001/L1/E02/C7.txt', 'r') as f:\n",
    "        lines = f.readlines()\n",
    "    f.close()\n",
    "    \n",
    "    if len(lines) == 14:\n",
    "        with open(path + 'labels/' + p + '_E02_C7.txt', 'w') as f:\n",
    "            for i, line in enumerate(lines[7:]):\n",
    "                box = line.strip('\\n').split('\\t')\n",
    "                box = list(map(int, box))\n",
    "                label = str(front_li[i]) + ' ' + convert_bounding([346, 230], box)\n",
    "                f.write(label)\n",
    "        f.close()\n",
    "        shutil.copy(origin_path + p + '/S001/L1/E02/C7.jpg', path + 'images/' + p + '_E02_C7.jpg')\n",
    "    else:\n",
    "        print(p, 'E02 C7')"
   ]
  },
  {
   "cell_type": "code",
   "execution_count": 53,
   "id": "efd87c44",
   "metadata": {},
   "outputs": [],
   "source": [
    "def left(path, p):\n",
    "    with open(origin_path + p + '/S001/L1/E01/C1.txt', 'r') as f:\n",
    "        lines = f.readlines()\n",
    "    f.close()\n",
    "    \n",
    "    if len(lines) == 12:\n",
    "        with open(path + 'labels/' + p + '_E01_C1.txt', 'w') as f:\n",
    "            for i, line in enumerate(lines[7:]):\n",
    "                box = line.strip('\\n').split('\\t')\n",
    "                box = list(map(int, box))\n",
    "                label = str(i) + ' ' + convert_bounding([346, 230], box)\n",
    "                f.write(label)\n",
    "        f.close()\n",
    "        shutil.copy(origin_path + p + '/S001/L1/E01/C1.jpg', path + 'images/' + p + '_E01_C1.jpg')\n",
    "    else:\n",
    "        print(p, 'E01 C1')\n",
    "    \n",
    "    \n",
    "    with open(origin_path + p + '/S001/L1/E02/C1.txt', 'r') as f:\n",
    "        lines = f.readlines()\n",
    "    f.close()\n",
    "    \n",
    "    if len(lines) == 12:\n",
    "        with open(path + 'labels/' + p + '_E02_C1.txt', 'w') as f:\n",
    "            for i, line in enumerate(lines[7:]):\n",
    "                box = line.strip('\\n').split('\\t')\n",
    "                box = list(map(int, box))\n",
    "                label = str(i) + ' ' + convert_bounding([346, 230], box)\n",
    "                f.write(label)\n",
    "        f.close()\n",
    "        shutil.copy(origin_path + p + '/S001/L1/E02/C1.jpg', path + 'images/' + p + '_E02_C1.jpg')\n",
    "    else:\n",
    "        print(p, 'E02 C1')"
   ]
  },
  {
   "cell_type": "code",
   "execution_count": 54,
   "id": "45967571",
   "metadata": {},
   "outputs": [],
   "source": [
    "def right(path, p):\n",
    "    with open(origin_path + p + '/S001/L1/E01/C13.txt', 'r') as f:\n",
    "        lines = f.readlines()\n",
    "    f.close()\n",
    "    \n",
    "    if len(lines) == 12:\n",
    "        with open(path + 'labels/' + p + '_E01_C13.txt', 'w') as f:\n",
    "            for i, line in enumerate(lines[7:]):\n",
    "                box = line.strip('\\n').split('\\t')\n",
    "                box = list(map(int, box))\n",
    "                label = str(i) + ' ' + convert_bounding([346, 230], box)\n",
    "                f.write(label)\n",
    "        f.close()\n",
    "        shutil.copy(origin_path + p + '/S001/L1/E01/C13.jpg', path + 'images/' + p + '_E01_C13.jpg')\n",
    "    else:\n",
    "        print(p, 'E01 C13')\n",
    "    \n",
    "    \n",
    "    with open(origin_path + p + '/S001/L1/E02/C13.txt', 'r') as f:\n",
    "        lines = f.readlines()\n",
    "    f.close()\n",
    "    \n",
    "    if len(lines) == 12:\n",
    "        with open(path + 'labels/' + p + '_E02_C13.txt', 'w') as f:\n",
    "            for i, line in enumerate(lines[7:]):\n",
    "                box = line.strip('\\n').split('\\t')\n",
    "                box = list(map(int, box))\n",
    "                label = str(i) + ' ' + convert_bounding([346, 230], box)\n",
    "                f.write(label)\n",
    "        f.close()\n",
    "        shutil.copy(origin_path + p + '/S001/L1/E02/C13.jpg', path + 'images/' + p + '_E02_C13.jpg')\n",
    "    else:\n",
    "        print(p, 'E02 C13')"
   ]
  },
  {
   "cell_type": "code",
   "execution_count": 55,
   "id": "7a6abe4b",
   "metadata": {},
   "outputs": [],
   "source": [
    "def convert_bounding(size, box):\n",
    "    dw = 1. / size[0] \n",
    "    dh = 1. / size[1]\n",
    "    \n",
    "    x = (2 * box[0] + box[2]) / 2.0\n",
    "    y = (2 * box[1] + box[3]) / 2.0\n",
    "    w = box[2]\n",
    "    h = box[3]\n",
    "    \n",
    "    x = str(x*dw)\n",
    "    w = str(w*dw)\n",
    "    y = str(y*dh)\n",
    "    h = str(h*dh)\n",
    "    \n",
    "    return x + ' ' + y + ' ' + w + ' ' + h + '\\n'"
   ]
  },
  {
   "cell_type": "code",
   "execution_count": 56,
   "id": "90c6b4f6",
   "metadata": {},
   "outputs": [],
   "source": [
    "for p in folder:\n",
    "    if p in set(valid_list):\n",
    "        path = new_path + 'valid/'\n",
    "    elif p in set(test_list):\n",
    "        path = new_path + 'test/'\n",
    "    else:\n",
    "        path = new_path + 'train/'\n",
    "        \n",
    "    front(path, p) \n",
    "    left(path, p)\n",
    "    right(path, p)"
   ]
  },
  {
   "cell_type": "code",
   "execution_count": null,
   "id": "6c0fb56c",
   "metadata": {},
   "outputs": [],
   "source": []
  }
 ],
 "metadata": {
  "kernelspec": {
   "display_name": "Python 3 (ipykernel)",
   "language": "python",
   "name": "python3"
  },
  "language_info": {
   "codemirror_mode": {
    "name": "ipython",
    "version": 3
   },
   "file_extension": ".py",
   "mimetype": "text/x-python",
   "name": "python",
   "nbconvert_exporter": "python",
   "pygments_lexer": "ipython3",
   "version": "3.9.7"
  }
 },
 "nbformat": 4,
 "nbformat_minor": 5
}
